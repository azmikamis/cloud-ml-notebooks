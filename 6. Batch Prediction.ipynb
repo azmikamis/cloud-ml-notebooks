{
 "cells": [
  {
   "cell_type": "code",
   "execution_count": 1,
   "metadata": {},
   "outputs": [
    {
     "name": "stderr",
     "output_type": "stream",
     "text": [
      "/usr/local/envs/py3env/lib/python3.5/site-packages/h5py/__init__.py:36: FutureWarning: Conversion of the second argument of issubdtype from `float` to `np.floating` is deprecated. In future, it will be treated as `np.float64 == np.dtype(float).type`.\n",
      "  from ._conv import register_converters as _register_converters\n"
     ]
    }
   ],
   "source": [
    "import tensorflow as tf\n",
    "from tensorflow.python.keras.datasets import mnist\n",
    "\n",
    "# input image dimensions\n",
    "img_rows, img_cols = 28, 28\n",
    "# the data, split between train and test sets\n",
    "(x_train, y_train), (x_test, y_test) = mnist.load_data()\n",
    "x_train = x_train.reshape(x_train.shape[0], img_rows, img_cols, 1)\n",
    "x_test = x_test.reshape(x_test.shape[0], img_rows, img_cols, 1)\n",
    "input_shape = (img_rows, img_cols, 1)\n",
    "x_train = x_train.astype('float32')\n",
    "x_test = x_test.astype('float32')\n",
    "x_train /= 255\n",
    "x_test /= 255\n",
    "# convert class vectors to binary class matrices\n",
    "y_train = tf.keras.utils.to_categorical(y_train, 10)\n",
    "y_test = tf.keras.utils.to_categorical(y_test, 10)"
   ]
  },
  {
   "cell_type": "code",
   "execution_count": 2,
   "metadata": {},
   "outputs": [],
   "source": [
    "num_images = 9\n",
    "some_images = x_test[0:num_images]\n",
    "some_images_pred = y_test[0:num_images]"
   ]
  },
  {
   "cell_type": "code",
   "execution_count": 18,
   "metadata": {},
   "outputs": [],
   "source": [
    "import json\n",
    "\n",
    "for images in some_images.tolist():\n",
    "    jsondata = {\"x_input\": images}\n",
    "    with open('test.json', 'a') as outfile:\n",
    "        json.dump(jsondata, outfile)\n",
    "        outfile.write('\\n')"
   ]
  },
  {
   "cell_type": "code",
   "execution_count": 19,
   "metadata": {},
   "outputs": [
    {
     "name": "stdout",
     "output_type": "stream",
     "text": [
      "PROBABILITIES\n",
      "[3.6881393494780923e-09, 8.658238570546928e-10, 9.342448379356938e-07, 2.28361159315682e-06, 2.0509602696727747e-11, 8.327801781504718e-10, 6.197841719013386e-13, 0.9999966621398926, 1.746771061128527e-10, 6.301718968870773e-08]\n",
      "[5.293816684570629e-06, 0.0024341249372810125, 0.9975582361221313, 8.728165425964107e-07, 5.537302616431816e-09, 2.1495951685324144e-09, 3.732504012532445e-07, 3.593947894842131e-08, 8.984150667856738e-07, 3.393597625134248e-10]\n",
      "[6.040726020728471e-06, 0.9998031258583069, 2.502256165826111e-06, 9.803144394027186e-07, 1.4385051144927274e-05, 2.1688208562409272e-06, 2.416542656646925e-06, 0.00015805767907295376, 6.985506388446083e-06, 3.4354645777057158e-06]\n",
      "[0.9999489784240723, 1.2105174640453242e-08, 3.785765159136645e-07, 5.6825296468332454e-08, 8.116201932750755e-09, 2.812283810271765e-06, 4.574328340822831e-05, 6.637182536906039e-07, 3.4140990123887605e-07, 9.492666208643641e-07]\n",
      "[1.3575734669757367e-07, 1.4732076181189768e-07, 3.6976439332647715e-07, 1.3270526721953502e-07, 0.9991022348403931, 2.7305543426336953e-07, 7.29090388063014e-08, 1.9416033865127247e-06, 1.7459655055063195e-07, 0.000894526659976691]\n",
      "[1.7938360770131112e-06, 0.9999630451202393, 1.553157602529609e-07, 8.347089419658005e-08, 8.264289590442786e-07, 9.145461632442675e-08, 5.9276946018371746e-08, 3.106224903604016e-05, 1.9442866232566303e-06, 9.460770229452464e-07]\n",
      "[3.416649718701592e-08, 4.959317811881192e-05, 3.434460722928634e-06, 2.718189477945998e-07, 0.9933920502662659, 2.3508653612225316e-05, 1.8732133355570113e-07, 0.0006573102436959743, 0.0008948981412686408, 0.004978747107088566]\n",
      "[3.7907548744442465e-07, 5.318785497365752e-06, 3.489803566480987e-05, 0.00013536123151425272, 0.0007007064996287227, 4.1349547245772555e-05, 2.344985006175193e-08, 5.6637027228134684e-06, 0.0005252150003798306, 0.998551070690155]\n",
      "[3.465300437710539e-07, 8.894935632497436e-08, 3.0130692607599485e-07, 5.467813934956212e-07, 1.2423365092217864e-07, 0.9998190999031067, 0.00010952635057037696, 5.590650289377663e-07, 4.5798366045346484e-05, 2.373032839386724e-05]\n"
     ]
    }
   ],
   "source": [
    "!gcloud ml-engine predict \\\n",
    "--model=est_mnist --version=v2 \\\n",
    "--json-instances=./test.json"
   ]
  },
  {
   "cell_type": "code",
   "execution_count": 21,
   "metadata": {},
   "outputs": [
    {
     "name": "stdout",
     "output_type": "stream",
     "text": [
      "Copying file://test.json [Content-Type=application/json]...\n",
      "\\ [1 files][ 66.1 KiB/ 66.1 KiB]                                                \n",
      "Operation completed over 1 objects/66.1 KiB.                                     \n"
     ]
    }
   ],
   "source": [
    "!gsutil cp test.json gs://mnist-estimator/batchpred/inputs.json"
   ]
  },
  {
   "cell_type": "code",
   "execution_count": 22,
   "metadata": {},
   "outputs": [
    {
     "name": "stdout",
     "output_type": "stream",
     "text": [
      "Job [mnist_estimator_pred_1539596022] submitted successfully.\n",
      "Your job is still active. You may view the status of your job with the command\n",
      "\n",
      "  $ gcloud ml-engine jobs describe mnist_estimator_pred_1539596022\n",
      "\n",
      "or continue streaming the logs with the command\n",
      "\n",
      "  $ gcloud ml-engine jobs stream-logs mnist_estimator_pred_1539596022\n",
      "jobId: mnist_estimator_pred_1539596022\n",
      "state: QUEUED\n"
     ]
    }
   ],
   "source": [
    "!gcloud ml-engine jobs submit prediction mnist_estimator_pred_`date +%s` \\\n",
    "--region europe-west1 \\\n",
    "--data-format=TEXT \\\n",
    "--input-paths=gs://mnist-estimator/batchpred/inputs.json \\\n",
    "--output-path=gs://mnist-estimator/batchpred/outputs \\\n",
    "--model=est_mnist --version=v2"
   ]
  },
  {
   "cell_type": "code",
   "execution_count": null,
   "metadata": {},
   "outputs": [],
   "source": []
  }
 ],
 "metadata": {
  "kernelspec": {
   "display_name": "Python 3",
   "language": "python",
   "name": "python3"
  },
  "language_info": {
   "codemirror_mode": {
    "name": "ipython",
    "version": 3
   },
   "file_extension": ".py",
   "mimetype": "text/x-python",
   "name": "python",
   "nbconvert_exporter": "python",
   "pygments_lexer": "ipython3",
   "version": "3.5.5"
  }
 },
 "nbformat": 4,
 "nbformat_minor": 2
}
