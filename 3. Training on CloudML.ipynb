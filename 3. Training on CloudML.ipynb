{
 "cells": [
  {
   "cell_type": "code",
   "execution_count": null,
   "metadata": {},
   "outputs": [],
   "source": [
    "!gcloud ml-engine local train \\\n",
    "--module-name trainer.task \\\n",
    "--package-path trainer \\"
   ]
  },
  {
   "cell_type": "code",
   "execution_count": 2,
   "metadata": {},
   "outputs": [
    {
     "name": "stdout",
     "output_type": "stream",
     "text": [
      "Job [mnist_estimator_1539583066] submitted successfully.\n",
      "Your job is still active. You may view the status of your job with the command\n",
      "\n",
      "  $ gcloud ml-engine jobs describe mnist_estimator_1539583066\n",
      "\n",
      "or continue streaming the logs with the command\n",
      "\n",
      "  $ gcloud ml-engine jobs stream-logs mnist_estimator_1539583066\n",
      "jobId: mnist_estimator_1539583066\n",
      "state: QUEUED\n"
     ]
    }
   ],
   "source": [
    "!gcloud ml-engine jobs submit training mnist_estimator_`date +%s` \\\n",
    "--staging-bucket gs://mnist-estimator/ \\\n",
    "--module-name trainer.task \\\n",
    "--package-path trainer \\\n",
    "--region europe-west1 \\\n",
    "--runtime-version 1.8 \\\n",
    "--python-version 3.5 \\"
   ]
  },
  {
   "cell_type": "code",
   "execution_count": 3,
   "metadata": {},
   "outputs": [
    {
     "name": "stdout",
     "output_type": "stream",
     "text": [
      "createTime: '2018-10-15T05:59:13Z'\n",
      "endTime: '2018-10-15T06:08:22Z'\n",
      "etag: lQvsx8BnaIo=\n",
      "jobId: mnist_estimator_1539583066\n",
      "startTime: '2018-10-15T06:00:36Z'\n",
      "state: SUCCEEDED\n",
      "trainingInput:\n",
      "  packageUris:\n",
      "  - gs://est-mnist-cnn/mnist_estimator_1539583066/b991de32e12a3b1bbcd1bbd1546f8757aadd9c227bac10ac8ef2be5a2f841416/trainer-0.0.0.tar.gz\n",
      "  pythonModule: trainer.task\n",
      "  pythonVersion: '3.5'\n",
      "  region: europe-west1\n",
      "  runtimeVersion: '1.8'\n",
      "trainingOutput:\n",
      "  consumedMLUnits: 0.1\n",
      "\n",
      "View job in the Cloud Console at:\n",
      "https://console.cloud.google.com/ml/jobs/mnist_estimator_1539583066?project=lvsc-mbs-it-poc-hotel\n",
      "\n",
      "View logs at:\n",
      "https://console.cloud.google.com/logs?resource=ml.googleapis.com%2Fjob_id%2Fmnist_estimator_1539583066&project=lvsc-mbs-it-poc-hotel\n"
     ]
    }
   ],
   "source": [
    "!gcloud ml-engine jobs describe mnist_estimator_1539583066"
   ]
  },
  {
   "cell_type": "code",
   "execution_count": null,
   "metadata": {},
   "outputs": [],
   "source": []
  }
 ],
 "metadata": {
  "kernelspec": {
   "display_name": "Python 3",
   "language": "python",
   "name": "python3"
  },
  "language_info": {
   "codemirror_mode": {
    "name": "ipython",
    "version": 3
   },
   "file_extension": ".py",
   "mimetype": "text/x-python",
   "name": "python",
   "nbconvert_exporter": "python",
   "pygments_lexer": "ipython3",
   "version": "3.5.5"
  }
 },
 "nbformat": 4,
 "nbformat_minor": 2
}
